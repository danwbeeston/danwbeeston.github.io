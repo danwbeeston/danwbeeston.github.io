{
 "cells": [
  {
   "cell_type": "code",
   "execution_count": null,
   "metadata": {},
   "outputs": [],
   "source": [
    "import requests\n",
    "import json\n",
    "from google.colab import files\n",
    "\n",
    "url_base= \"https://api.stlouisfed.org/fred/series/observations?series_id={}&api_key=285d15a70cec8718abc88ae52655ef3f&file_type=json\"\n",
    "fredSeries = ['JPNRGDPEXP', 'CLVMNACSCAB1GQEL', 'NGDPRSAXDCTRQ', 'CLVMNACSCAB1GQFI', 'CLVMNACSCAB1GQCZ', 'RGDPNACRA666NRUG' ]\n",
    "file_base = \"Project_Chart6_{}.json\"\n",
    "\n",
    "for i in fredSeries:\n",
    "  URL = url_base.format(i)\n",
    "  print(URL)\n",
    "  data = requests.get(URL).json()\n",
    "  print(data)\n",
    "  fileName= file_base.format(i)\n",
    "  print(fileName)\n",
    "  with open(fileName, 'w', encoding='utf-8') as f:\n",
    "    json.dump(data,f, ensure_ascii=False, indent=4)\n",
    "  files.download('{}'.format(fileName))"
   ]
  },
  {
   "cell_type": "markdown",
   "metadata": {},
   "source": [
    "This code automated the fetching of GDP data which is in my indexed chart (chart 6) of the project. The file names have been renamed to the country names for ease of access. "
   ]
  }
 ],
 "metadata": {
  "language_info": {
   "name": "python"
  },
  "orig_nbformat": 4
 },
 "nbformat": 4,
 "nbformat_minor": 2
}
