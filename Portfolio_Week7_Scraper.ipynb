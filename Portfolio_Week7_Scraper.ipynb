{
  "cells": [
    {
      "cell_type": "code",
      "execution_count": null,
      "metadata": {
        "id": "RHo0NYogLpoL"
      },
      "outputs": [],
      "source": []
    },
    {
      "cell_type": "markdown",
      "metadata": {
        "id": "b-DIKnnmVIv1"
      },
      "source": []
    },
    {
      "cell_type": "code",
      "execution_count": null,
      "metadata": {
        "colab": {
          "base_uri": "https://localhost:8080/"
        },
        "id": "w90p2puTL1rV",
        "outputId": "8383de47-1282-42d6-cbe3-ba162f519ec5"
      },
      "outputs": [
        {
          "name": "stdout",
          "output_type": "stream",
          "text": [
            "   Rank          Market          Spend  Visitors\n",
            "0     1  European Union  £9.33 billion  22580591\n",
            "1     2   United States  £4.18 billion   4498753\n",
            "2     3           China  £1.71 billion    883072\n",
            "3     4       Australia  £1.17 billion   1063404\n",
            "4     5           India   £752 million    692082\n"
          ]
        }
      ],
      "source": [
        "import pandas as pd # library for data analysis\n",
        "import requests # library to handle requests\n",
        "from bs4 import BeautifulSoup # library to parse HTML documents\n",
        "\n",
        "url =\"https://en.wikipedia.org/wiki/Economy_of_the_United_Kingdom\"\n",
        "response = requests.get(url)\n",
        "soup = BeautifulSoup(response.text, 'html.parser')\n",
        "indiatable=soup.find('table',{'class':\"wikitable\"})\n",
        "df=pd.read_html(str(indiatable))\n",
        "# convert list to dataframe\n",
        "df=pd.DataFrame(df[0])\n",
        "print(df.head())\n",
        "df.to_csv('Portfolio_Week7.csv', index=False)\n",
        "\n",
        "\n",
        "\n"
      ]
    }
  ],
  "metadata": {
    "colab": {
      "collapsed_sections": [],
      "name": "Week7_Scraper.ipynb",
      "provenance": []
    },
    "kernelspec": {
      "display_name": "Python 3",
      "name": "python3"
    },
    "language_info": {
      "name": "python"
    }
  },
  "nbformat": 4,
  "nbformat_minor": 0
}
